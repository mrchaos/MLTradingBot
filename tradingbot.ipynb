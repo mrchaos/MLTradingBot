{
 "cells": [
  {
   "cell_type": "code",
   "execution_count": 18,
   "metadata": {},
   "outputs": [
    {
     "data": {
      "text/plain": [
       "True"
      ]
     },
     "execution_count": 18,
     "metadata": {},
     "output_type": "execute_result"
    }
   ],
   "source": [
    "from lumibot.brokers import Alpaca\n",
    "from lumibot.entities import Asset\n",
    "from lumibot.backtesting import YahooDataBacktesting \n",
    "from lumibot.backtesting.alpaca_backtesting import AlpacaBacktesting , DataSourceBacktesting, AlpacaData\n",
    "from lumibot.backtesting.alpha_vantage_backtesting import AlphaVantageBacktesting\n",
    "from lumibot.backtesting.pandas_backtesting import PandasDataBacktesting\n",
    "from lumibot.strategies.strategy import Strategy\n",
    "from lumibot.traders import Trader\n",
    "from datetime import datetime \n",
    "from alpaca_trade_api import REST \n",
    "from timedelta import Timedelta \n",
    "from finbert_utils import estimate_sentiment\n",
    "\n",
    "from dotenv import load_dotenv\n",
    "import os\n",
    "\n",
    "load_dotenv()"
   ]
  },
  {
   "cell_type": "code",
   "execution_count": null,
   "metadata": {},
   "outputs": [],
   "source": [
    "from lumibot.data_sources import AlpacaData, DataSourceBacktesting\n",
    "\n",
    "\n",
    "class AlpacaBacktesting2(DataSourceBacktesting, AlpacaData):\n",
    "    def __init__(self, datetime_start, datetime_end, **kwargs):\n",
    "        # raise Exception(\"AlpacaBacktesting is not currently operational\")\n",
    "\n",
    "        AlpacaData.__init__(self, **kwargs)\n",
    "        DataSourceBacktesting.__init__(self, datetime_start, datetime_end)"
   ]
  },
  {
   "cell_type": "code",
   "execution_count": 2,
   "metadata": {},
   "outputs": [],
   "source": [
    "API_KEY = os.getenv(\"ALPACA_API_KEY\") \n",
    "API_SECRET = os.getenv(\"ALPACA_SECRET_KEY\") \n",
    "BASE_URL = os.getenv(\"ALPACA_API_URL\")\n",
    "\n",
    "\n",
    "ALPACA_CREDS = {\n",
    "    \"API_KEY\":API_KEY, \n",
    "    \"API_SECRET\": API_SECRET, \n",
    "    \"PAPER\": True\n",
    "}"
   ]
  },
  {
   "cell_type": "code",
   "execution_count": 3,
   "metadata": {},
   "outputs": [],
   "source": [
    "class MLTrader(Strategy): \n",
    "    def initialize(self, symbol:str=\"SPY\", cash_at_risk:float=.5): \n",
    "        self.symbol = symbol\n",
    "        self.sleeptime = \"24H\" \n",
    "        self.last_trade = None \n",
    "        self.cash_at_risk = cash_at_risk\n",
    "        self.api = REST(base_url=BASE_URL, key_id=API_KEY, secret_key=API_SECRET)\n",
    "\n",
    "    def position_sizing(self): \n",
    "        cash = self.get_cash() \n",
    "        last_price = self.get_last_price(self.symbol)\n",
    "        quantity = round(cash * self.cash_at_risk / last_price,0)\n",
    "        return cash, last_price, quantity\n",
    "\n",
    "    def get_dates(self): \n",
    "        today = self.get_datetime()\n",
    "        three_days_prior = today - Timedelta(days=3)\n",
    "        return today.strftime('%Y-%m-%d'), three_days_prior.strftime('%Y-%m-%d')\n",
    "\n",
    "    def get_sentiment(self): \n",
    "        today, three_days_prior = self.get_dates()\n",
    "        news = self.api.get_news(symbol=self.symbol, \n",
    "                                 start=three_days_prior, \n",
    "                                 end=today) \n",
    "        news = [ev.__dict__[\"_raw\"][\"headline\"] for ev in news]\n",
    "        probability, sentiment = estimate_sentiment(news)\n",
    "        return probability, sentiment \n",
    "\n",
    "    def on_trading_iteration(self):\n",
    "        cash, last_price, quantity = self.position_sizing() \n",
    "        probability, sentiment = self.get_sentiment()\n",
    "\n",
    "        if cash > last_price: \n",
    "            if sentiment == \"positive\" and probability > .999: \n",
    "                if self.last_trade == \"sell\": \n",
    "                    self.sell_all() \n",
    "                order = self.create_order(\n",
    "                    self.symbol, \n",
    "                    quantity, \n",
    "                    \"buy\", \n",
    "                    type=\"bracket\", \n",
    "                    take_profit_price=last_price*1.20, \n",
    "                    stop_loss_price=last_price*.95\n",
    "                )\n",
    "                self.submit_order(order) \n",
    "                self.last_trade = \"buy\"\n",
    "            elif sentiment == \"negative\" and probability > .999: \n",
    "                if self.last_trade == \"buy\": \n",
    "                    self.sell_all() \n",
    "                order = self.create_order(\n",
    "                    self.symbol, \n",
    "                    quantity, \n",
    "                    \"sell\", \n",
    "                    type=\"bracket\", \n",
    "                    take_profit_price=last_price*.8, \n",
    "                    stop_loss_price=last_price*1.05\n",
    "                )\n",
    "                self.submit_order(order) \n",
    "                self.last_trade = \"sell\""
   ]
  },
  {
   "cell_type": "code",
   "execution_count": 17,
   "metadata": {},
   "outputs": [
    {
     "name": "stdout",
     "output_type": "stream",
     "text": [
      "Starting backtest for MLTrader...\n",
      "Progress |\u001b[32m\u001b[0m| 100.00%  [Elapsed: 0:37:55 ETA: 0:00:00] Portfolio Val: 100,000.000\n",
      "Creating trades plot...\n",
      "\n",
      "Creating indicators plot...\n",
      "\n",
      "Creating tearsheet...\n",
      "2024-01-24 19:13:48,238: root: ERROR: Not enough data to create a tearsheet, at least 2 days of data are required. Skipping\n"
     ]
    },
    {
     "data": {
      "text/plain": [
       "{'cagr': 0.0,\n",
       " 'volatility': 0.0,\n",
       " 'sharpe': 0,\n",
       " 'max_drawdown': {'drawdown': 0.0,\n",
       "  'date': Timestamp('2023-12-16 09:30:00-0500', tz='America/New_York')},\n",
       " 'romad': 0,\n",
       " 'total_return': 0.0}"
      ]
     },
     "execution_count": 17,
     "metadata": {},
     "output_type": "execute_result"
    }
   ],
   "source": [
    "start_date = datetime(2023,12,15)\n",
    "end_date = datetime(2023,12,31) \n",
    "broker = Alpaca(ALPACA_CREDS) \n",
    "symbol_yahoo = \"ETH-USD\"\n",
    "symbol_alpaca = \"ETH/USD\"\n",
    "benchmark_asset = Asset(symbol=symbol_yahoo, asset_type=\"stock\")\n",
    "strategy = MLTrader(name='mlstrat', broker=broker,\n",
    "                    parameters={\"symbol\":\"ETH/USD\", \n",
    "                                \"cash_at_risk\":.5})\n",
    "strategy.backtest(\n",
    "    YahooDataBacktesting, \n",
    "    start_date, \n",
    "    end_date, \n",
    "    benchmark_asset=benchmark_asset,\n",
    "    parameters={\"symbol\":\"ETH-USD\", \"cash_at_risk\":.5}\n",
    ")"
   ]
  },
  {
   "cell_type": "code",
   "execution_count": 15,
   "metadata": {},
   "outputs": [
    {
     "name": "stdout",
     "output_type": "stream",
     "text": [
      "                                  Open         High          Low        Close  \\\n",
      "Date                                                                            \n",
      "2023-01-24 00:00:00+00:00  1627.848267  1639.723877  1551.389771  1556.604248   \n",
      "2023-01-25 00:00:00+00:00  1556.807495  1632.241699  1530.797852  1611.711060   \n",
      "2023-01-26 00:00:00+00:00  1611.080933  1626.198242  1586.598145  1603.105957   \n",
      "2023-01-27 00:00:00+00:00  1603.080078  1617.000854  1565.244995  1598.156494   \n",
      "2023-01-28 00:00:00+00:00  1598.125366  1604.704102  1565.390137  1572.435059   \n",
      "...                                ...          ...          ...          ...   \n",
      "2024-01-20 00:00:00+00:00  2489.847656  2489.847656  2456.095703  2469.589111   \n",
      "2024-01-21 00:00:00+00:00  2469.798584  2479.760498  2452.377686  2453.913086   \n",
      "2024-01-22 00:00:00+00:00  2454.987305  2463.447266  2303.502686  2310.826416   \n",
      "2024-01-23 00:00:00+00:00  2310.951660  2348.031250  2167.282471  2240.686035   \n",
      "2024-01-24 00:00:00+00:00  2241.749756  2248.310059  2211.949951  2238.967041   \n",
      "\n",
      "                                Volume  Dividends  Stock Splits  \n",
      "Date                                                             \n",
      "2023-01-24 00:00:00+00:00   8180274691        0.0           0.0  \n",
      "2023-01-25 00:00:00+00:00  10598973448        0.0           0.0  \n",
      "2023-01-26 00:00:00+00:00   8395315241        0.0           0.0  \n",
      "2023-01-27 00:00:00+00:00   8124465373        0.0           0.0  \n",
      "2023-01-28 00:00:00+00:00   5803653357        0.0           0.0  \n",
      "...                                ...        ...           ...  \n",
      "2024-01-20 00:00:00+00:00   5297826161        0.0           0.0  \n",
      "2024-01-21 00:00:00+00:00   4578471955        0.0           0.0  \n",
      "2024-01-22 00:00:00+00:00  13923771728        0.0           0.0  \n",
      "2024-01-23 00:00:00+00:00  16182147521        0.0           0.0  \n",
      "2024-01-24 00:00:00+00:00  15676372992        0.0           0.0  \n",
      "\n",
      "[366 rows x 7 columns]\n"
     ]
    }
   ],
   "source": [
    "import yfinance as yf\n",
    "\n",
    "# Ethereum의 데이터를 불러옵니다\n",
    "eth_data = yf.Ticker(\"ETH-USD\")\n",
    "\n",
    "# 지정된 기간 동안의 역사적 데이터를 가져옵니다. 예를 들어, 최근 1년간의 일일 데이터\n",
    "eth_history = eth_data.history(period=\"1y\")\n",
    "\n",
    "# 데이터 출력\n",
    "print(eth_history)"
   ]
  },
  {
   "cell_type": "code",
   "execution_count": null,
   "metadata": {},
   "outputs": [],
   "source": []
  }
 ],
 "metadata": {
  "kernelspec": {
   "display_name": "base",
   "language": "python",
   "name": "python3"
  },
  "language_info": {
   "codemirror_mode": {
    "name": "ipython",
    "version": 3
   },
   "file_extension": ".py",
   "mimetype": "text/x-python",
   "name": "python",
   "nbconvert_exporter": "python",
   "pygments_lexer": "ipython3",
   "version": "3.11.5"
  }
 },
 "nbformat": 4,
 "nbformat_minor": 2
}

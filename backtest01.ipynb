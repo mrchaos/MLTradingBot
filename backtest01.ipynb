{
 "cells": [
  {
   "cell_type": "code",
   "execution_count": null,
   "metadata": {},
   "outputs": [],
   "source": [
    "from lumibot import backtest\n",
    "from lumibot.traders import Trader\n",
    "from lumibot.backtesting.yahoo_backtesting import YahooData\n",
    "from lumibot.strategies import Strategy\n",
    "\n",
    "# 비트코인 백테스트 전략 정의\n",
    "class BitcoinStrategy(Strategy):\n",
    "    def initialize(self):\n",
    "        self.symbol = \"BTC-USD\"\n",
    "        self.data_provider = YahooData()\n",
    "        self.data_provider.add_symbol(self.symbol)\n",
    "    \n",
    "    def on_update(self, data):\n",
    "        price_data = self.data_provider.get_symbol_data(self.symbol)\n",
    "        current_price = price_data['close'][-1]\n",
    "        \n",
    "        # 비트코인 매수 조건 예시\n",
    "        if current_price < 30000:  # 예시로 30000달러 이하일 때 매수\n",
    "            self.buy(self.symbol, 1)\n",
    "\n",
    "# 백테스트 설정\n",
    "start_date = \"2020-01-01\"\n",
    "end_date = \"2021-01-01\"\n",
    "starting_cash = 10000\n",
    "\n",
    "# 전략 실행\n",
    "strategy = BitcoinStrategy()\n",
    "trader = Trader()\n",
    "trader.add_strategy(strategy)\n",
    "trader. .set_backtest(start_date, end_date, starting_cash)\n",
    "results = trader.start_backtest()\n",
    "\n",
    "# 결과 출력\n",
    "print(results)\n"
   ]
  }
 ],
 "metadata": {
  "kernelspec": {
   "display_name": "base",
   "language": "python",
   "name": "python3"
  },
  "language_info": {
   "name": "python",
   "version": "3.11.5"
  }
 },
 "nbformat": 4,
 "nbformat_minor": 2
}
